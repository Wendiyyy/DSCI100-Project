{
 "cells": [
  {
   "cell_type": "markdown",
   "metadata": {},
   "source": [
    "# Classification of Heart Disease Using K-Nearest Neighbor"
   ]
  },
  {
   "cell_type": "markdown",
   "metadata": {},
   "source": [
    "## Introduction\n",
    "Many people die of cardiovascular diseases without knowing they have a problem with their heart. Unexpected deaths as such can be prevented with early diagnoses of cardiovascular issues and proper medication. In this project, we are trying to answer: Can available patient data and the KNN classification algorithm be used to detect the presence of heart diseases? If so, how accurate could it be and how to use it correctly in actual practice? The heart disease dataset we are using is obtained form the UCI machine learning repository (https://archive.ics.uci.edu/ml/datasets/Heart+Disease). It contains 303 patient instances and 14 attributes collected from Cleveland.  "
   ]
  },
  {
   "cell_type": "markdown",
   "metadata": {},
   "source": [
    "## Preliminary Exploratory Data Analysis\n",
    "#### 1. Download and Read the dataset from the web (use URL)"
   ]
  },
  {
   "cell_type": "code",
   "execution_count": 24,
   "metadata": {},
   "outputs": [],
   "source": [
    "# Call packages that will be used.\n",
    "library(tidyverse)\n",
    "library(tidymodels)\n",
    "library(GGally)"
   ]
  },
  {
   "cell_type": "code",
   "execution_count": 25,
   "metadata": {},
   "outputs": [],
   "source": [
    "# Set the value of seed to ensure reproducibility\n",
    "set.seed(200)"
   ]
  },
  {
   "cell_type": "code",
   "execution_count": 26,
   "metadata": {},
   "outputs": [],
   "source": [
    "# To download the dataset from the web\n",
    "url <- 'https://archive.ics.uci.edu/ml/machine-learning-databases/heart-disease/processed.cleveland.data'\n",
    "download.file(url,destfile='HeartDisease_Cleveland.csv')"
   ]
  },
  {
   "cell_type": "code",
   "execution_count": 27,
   "metadata": {},
   "outputs": [
    {
     "name": "stderr",
     "output_type": "stream",
     "text": [
      "Parsed with column specification:\n",
      "cols(\n",
      "  X1 = \u001b[32mcol_double()\u001b[39m,\n",
      "  X2 = \u001b[32mcol_double()\u001b[39m,\n",
      "  X3 = \u001b[32mcol_double()\u001b[39m,\n",
      "  X4 = \u001b[32mcol_double()\u001b[39m,\n",
      "  X5 = \u001b[32mcol_double()\u001b[39m,\n",
      "  X6 = \u001b[32mcol_double()\u001b[39m,\n",
      "  X7 = \u001b[32mcol_double()\u001b[39m,\n",
      "  X8 = \u001b[32mcol_double()\u001b[39m,\n",
      "  X9 = \u001b[32mcol_double()\u001b[39m,\n",
      "  X10 = \u001b[32mcol_double()\u001b[39m,\n",
      "  X11 = \u001b[32mcol_double()\u001b[39m,\n",
      "  X12 = \u001b[31mcol_character()\u001b[39m,\n",
      "  X13 = \u001b[31mcol_character()\u001b[39m,\n",
      "  X14 = \u001b[32mcol_double()\u001b[39m\n",
      ")\n",
      "\n"
     ]
    },
    {
     "data": {
      "text/html": [
       "<table>\n",
       "<caption>A tibble: 6 × 14</caption>\n",
       "<thead>\n",
       "\t<tr><th scope=col>X1</th><th scope=col>X2</th><th scope=col>X3</th><th scope=col>X4</th><th scope=col>X5</th><th scope=col>X6</th><th scope=col>X7</th><th scope=col>X8</th><th scope=col>X9</th><th scope=col>X10</th><th scope=col>X11</th><th scope=col>X12</th><th scope=col>X13</th><th scope=col>X14</th></tr>\n",
       "\t<tr><th scope=col>&lt;dbl&gt;</th><th scope=col>&lt;dbl&gt;</th><th scope=col>&lt;dbl&gt;</th><th scope=col>&lt;dbl&gt;</th><th scope=col>&lt;dbl&gt;</th><th scope=col>&lt;dbl&gt;</th><th scope=col>&lt;dbl&gt;</th><th scope=col>&lt;dbl&gt;</th><th scope=col>&lt;dbl&gt;</th><th scope=col>&lt;dbl&gt;</th><th scope=col>&lt;dbl&gt;</th><th scope=col>&lt;chr&gt;</th><th scope=col>&lt;chr&gt;</th><th scope=col>&lt;dbl&gt;</th></tr>\n",
       "</thead>\n",
       "<tbody>\n",
       "\t<tr><td>63</td><td>1</td><td>1</td><td>145</td><td>233</td><td>1</td><td>2</td><td>150</td><td>0</td><td>2.3</td><td>3</td><td>0.0</td><td>6.0</td><td>0</td></tr>\n",
       "\t<tr><td>67</td><td>1</td><td>4</td><td>160</td><td>286</td><td>0</td><td>2</td><td>108</td><td>1</td><td>1.5</td><td>2</td><td>3.0</td><td>3.0</td><td>2</td></tr>\n",
       "\t<tr><td>67</td><td>1</td><td>4</td><td>120</td><td>229</td><td>0</td><td>2</td><td>129</td><td>1</td><td>2.6</td><td>2</td><td>2.0</td><td>7.0</td><td>1</td></tr>\n",
       "\t<tr><td>37</td><td>1</td><td>3</td><td>130</td><td>250</td><td>0</td><td>0</td><td>187</td><td>0</td><td>3.5</td><td>3</td><td>0.0</td><td>3.0</td><td>0</td></tr>\n",
       "\t<tr><td>41</td><td>0</td><td>2</td><td>130</td><td>204</td><td>0</td><td>2</td><td>172</td><td>0</td><td>1.4</td><td>1</td><td>0.0</td><td>3.0</td><td>0</td></tr>\n",
       "\t<tr><td>56</td><td>1</td><td>2</td><td>120</td><td>236</td><td>0</td><td>0</td><td>178</td><td>0</td><td>0.8</td><td>1</td><td>0.0</td><td>3.0</td><td>0</td></tr>\n",
       "</tbody>\n",
       "</table>\n"
      ],
      "text/latex": [
       "A tibble: 6 × 14\n",
       "\\begin{tabular}{llllllllllllll}\n",
       " X1 & X2 & X3 & X4 & X5 & X6 & X7 & X8 & X9 & X10 & X11 & X12 & X13 & X14\\\\\n",
       " <dbl> & <dbl> & <dbl> & <dbl> & <dbl> & <dbl> & <dbl> & <dbl> & <dbl> & <dbl> & <dbl> & <chr> & <chr> & <dbl>\\\\\n",
       "\\hline\n",
       "\t 63 & 1 & 1 & 145 & 233 & 1 & 2 & 150 & 0 & 2.3 & 3 & 0.0 & 6.0 & 0\\\\\n",
       "\t 67 & 1 & 4 & 160 & 286 & 0 & 2 & 108 & 1 & 1.5 & 2 & 3.0 & 3.0 & 2\\\\\n",
       "\t 67 & 1 & 4 & 120 & 229 & 0 & 2 & 129 & 1 & 2.6 & 2 & 2.0 & 7.0 & 1\\\\\n",
       "\t 37 & 1 & 3 & 130 & 250 & 0 & 0 & 187 & 0 & 3.5 & 3 & 0.0 & 3.0 & 0\\\\\n",
       "\t 41 & 0 & 2 & 130 & 204 & 0 & 2 & 172 & 0 & 1.4 & 1 & 0.0 & 3.0 & 0\\\\\n",
       "\t 56 & 1 & 2 & 120 & 236 & 0 & 0 & 178 & 0 & 0.8 & 1 & 0.0 & 3.0 & 0\\\\\n",
       "\\end{tabular}\n"
      ],
      "text/markdown": [
       "\n",
       "A tibble: 6 × 14\n",
       "\n",
       "| X1 &lt;dbl&gt; | X2 &lt;dbl&gt; | X3 &lt;dbl&gt; | X4 &lt;dbl&gt; | X5 &lt;dbl&gt; | X6 &lt;dbl&gt; | X7 &lt;dbl&gt; | X8 &lt;dbl&gt; | X9 &lt;dbl&gt; | X10 &lt;dbl&gt; | X11 &lt;dbl&gt; | X12 &lt;chr&gt; | X13 &lt;chr&gt; | X14 &lt;dbl&gt; |\n",
       "|---|---|---|---|---|---|---|---|---|---|---|---|---|---|\n",
       "| 63 | 1 | 1 | 145 | 233 | 1 | 2 | 150 | 0 | 2.3 | 3 | 0.0 | 6.0 | 0 |\n",
       "| 67 | 1 | 4 | 160 | 286 | 0 | 2 | 108 | 1 | 1.5 | 2 | 3.0 | 3.0 | 2 |\n",
       "| 67 | 1 | 4 | 120 | 229 | 0 | 2 | 129 | 1 | 2.6 | 2 | 2.0 | 7.0 | 1 |\n",
       "| 37 | 1 | 3 | 130 | 250 | 0 | 0 | 187 | 0 | 3.5 | 3 | 0.0 | 3.0 | 0 |\n",
       "| 41 | 0 | 2 | 130 | 204 | 0 | 2 | 172 | 0 | 1.4 | 1 | 0.0 | 3.0 | 0 |\n",
       "| 56 | 1 | 2 | 120 | 236 | 0 | 0 | 178 | 0 | 0.8 | 1 | 0.0 | 3.0 | 0 |\n",
       "\n"
      ],
      "text/plain": [
       "  X1 X2 X3 X4  X5  X6 X7 X8  X9 X10 X11 X12 X13 X14\n",
       "1 63 1  1  145 233 1  2  150 0  2.3 3   0.0 6.0 0  \n",
       "2 67 1  4  160 286 0  2  108 1  1.5 2   3.0 3.0 2  \n",
       "3 67 1  4  120 229 0  2  129 1  2.6 2   2.0 7.0 1  \n",
       "4 37 1  3  130 250 0  0  187 0  3.5 3   0.0 3.0 0  \n",
       "5 41 0  2  130 204 0  2  172 0  1.4 1   0.0 3.0 0  \n",
       "6 56 1  2  120 236 0  0  178 0  0.8 1   0.0 3.0 0  "
      ]
     },
     "metadata": {},
     "output_type": "display_data"
    }
   ],
   "source": [
    "# Read the 'HeartDisease_Cleveland.csv' file into a dataframe\n",
    "heart_cleve <- read_csv('HeartDisease_Cleveland.csv',col_names=FALSE)\n",
    "head(heart_cleve)"
   ]
  },
  {
   "cell_type": "markdown",
   "metadata": {},
   "source": [
    "#### 2. Clean and Wrangle data into tidy format"
   ]
  },
  {
   "cell_type": "code",
   "execution_count": 28,
   "metadata": {},
   "outputs": [
    {
     "name": "stderr",
     "output_type": "stream",
     "text": [
      "Warning message:\n",
      "“Problem with `mutate()` input `ca`.\n",
      "\u001b[34mℹ\u001b[39m NAs introduced by coercion\n",
      "\u001b[34mℹ\u001b[39m Input `ca` is `as.numeric(ca)`.”\n",
      "Warning message in mask$eval_all_mutate(dots[[i]]):\n",
      "“NAs introduced by coercion”\n",
      "Warning message:\n",
      "“Problem with `mutate()` input `thal`.\n",
      "\u001b[34mℹ\u001b[39m NAs introduced by coercion\n",
      "\u001b[34mℹ\u001b[39m Input `thal` is `as.numeric(thal)`.”\n",
      "Warning message in mask$eval_all_mutate(dots[[i]]):\n",
      "“NAs introduced by coercion”\n"
     ]
    },
    {
     "data": {
      "text/html": [
       "<table>\n",
       "<caption>A tibble: 6 × 14</caption>\n",
       "<thead>\n",
       "\t<tr><th scope=col>age</th><th scope=col>sex</th><th scope=col>cp</th><th scope=col>trestbps</th><th scope=col>chol</th><th scope=col>fbs</th><th scope=col>restecg</th><th scope=col>thalach</th><th scope=col>exang</th><th scope=col>oldpeak</th><th scope=col>slope</th><th scope=col>ca</th><th scope=col>thal</th><th scope=col>diagnosis</th></tr>\n",
       "\t<tr><th scope=col>&lt;dbl&gt;</th><th scope=col>&lt;dbl&gt;</th><th scope=col>&lt;dbl&gt;</th><th scope=col>&lt;dbl&gt;</th><th scope=col>&lt;dbl&gt;</th><th scope=col>&lt;dbl&gt;</th><th scope=col>&lt;dbl&gt;</th><th scope=col>&lt;dbl&gt;</th><th scope=col>&lt;dbl&gt;</th><th scope=col>&lt;dbl&gt;</th><th scope=col>&lt;dbl&gt;</th><th scope=col>&lt;dbl&gt;</th><th scope=col>&lt;dbl&gt;</th><th scope=col>&lt;fct&gt;</th></tr>\n",
       "</thead>\n",
       "<tbody>\n",
       "\t<tr><td>63</td><td>1</td><td>1</td><td>145</td><td>233</td><td>1</td><td>2</td><td>150</td><td>0</td><td>2.3</td><td>3</td><td>0</td><td>6</td><td>0</td></tr>\n",
       "\t<tr><td>67</td><td>1</td><td>4</td><td>160</td><td>286</td><td>0</td><td>2</td><td>108</td><td>1</td><td>1.5</td><td>2</td><td>3</td><td>3</td><td>2</td></tr>\n",
       "\t<tr><td>67</td><td>1</td><td>4</td><td>120</td><td>229</td><td>0</td><td>2</td><td>129</td><td>1</td><td>2.6</td><td>2</td><td>2</td><td>7</td><td>1</td></tr>\n",
       "\t<tr><td>37</td><td>1</td><td>3</td><td>130</td><td>250</td><td>0</td><td>0</td><td>187</td><td>0</td><td>3.5</td><td>3</td><td>0</td><td>3</td><td>0</td></tr>\n",
       "\t<tr><td>41</td><td>0</td><td>2</td><td>130</td><td>204</td><td>0</td><td>2</td><td>172</td><td>0</td><td>1.4</td><td>1</td><td>0</td><td>3</td><td>0</td></tr>\n",
       "\t<tr><td>56</td><td>1</td><td>2</td><td>120</td><td>236</td><td>0</td><td>0</td><td>178</td><td>0</td><td>0.8</td><td>1</td><td>0</td><td>3</td><td>0</td></tr>\n",
       "</tbody>\n",
       "</table>\n"
      ],
      "text/latex": [
       "A tibble: 6 × 14\n",
       "\\begin{tabular}{llllllllllllll}\n",
       " age & sex & cp & trestbps & chol & fbs & restecg & thalach & exang & oldpeak & slope & ca & thal & diagnosis\\\\\n",
       " <dbl> & <dbl> & <dbl> & <dbl> & <dbl> & <dbl> & <dbl> & <dbl> & <dbl> & <dbl> & <dbl> & <dbl> & <dbl> & <fct>\\\\\n",
       "\\hline\n",
       "\t 63 & 1 & 1 & 145 & 233 & 1 & 2 & 150 & 0 & 2.3 & 3 & 0 & 6 & 0\\\\\n",
       "\t 67 & 1 & 4 & 160 & 286 & 0 & 2 & 108 & 1 & 1.5 & 2 & 3 & 3 & 2\\\\\n",
       "\t 67 & 1 & 4 & 120 & 229 & 0 & 2 & 129 & 1 & 2.6 & 2 & 2 & 7 & 1\\\\\n",
       "\t 37 & 1 & 3 & 130 & 250 & 0 & 0 & 187 & 0 & 3.5 & 3 & 0 & 3 & 0\\\\\n",
       "\t 41 & 0 & 2 & 130 & 204 & 0 & 2 & 172 & 0 & 1.4 & 1 & 0 & 3 & 0\\\\\n",
       "\t 56 & 1 & 2 & 120 & 236 & 0 & 0 & 178 & 0 & 0.8 & 1 & 0 & 3 & 0\\\\\n",
       "\\end{tabular}\n"
      ],
      "text/markdown": [
       "\n",
       "A tibble: 6 × 14\n",
       "\n",
       "| age &lt;dbl&gt; | sex &lt;dbl&gt; | cp &lt;dbl&gt; | trestbps &lt;dbl&gt; | chol &lt;dbl&gt; | fbs &lt;dbl&gt; | restecg &lt;dbl&gt; | thalach &lt;dbl&gt; | exang &lt;dbl&gt; | oldpeak &lt;dbl&gt; | slope &lt;dbl&gt; | ca &lt;dbl&gt; | thal &lt;dbl&gt; | diagnosis &lt;fct&gt; |\n",
       "|---|---|---|---|---|---|---|---|---|---|---|---|---|---|\n",
       "| 63 | 1 | 1 | 145 | 233 | 1 | 2 | 150 | 0 | 2.3 | 3 | 0 | 6 | 0 |\n",
       "| 67 | 1 | 4 | 160 | 286 | 0 | 2 | 108 | 1 | 1.5 | 2 | 3 | 3 | 2 |\n",
       "| 67 | 1 | 4 | 120 | 229 | 0 | 2 | 129 | 1 | 2.6 | 2 | 2 | 7 | 1 |\n",
       "| 37 | 1 | 3 | 130 | 250 | 0 | 0 | 187 | 0 | 3.5 | 3 | 0 | 3 | 0 |\n",
       "| 41 | 0 | 2 | 130 | 204 | 0 | 2 | 172 | 0 | 1.4 | 1 | 0 | 3 | 0 |\n",
       "| 56 | 1 | 2 | 120 | 236 | 0 | 0 | 178 | 0 | 0.8 | 1 | 0 | 3 | 0 |\n",
       "\n"
      ],
      "text/plain": [
       "  age sex cp trestbps chol fbs restecg thalach exang oldpeak slope ca thal\n",
       "1 63  1   1  145      233  1   2       150     0     2.3     3     0  6   \n",
       "2 67  1   4  160      286  0   2       108     1     1.5     2     3  3   \n",
       "3 67  1   4  120      229  0   2       129     1     2.6     2     2  7   \n",
       "4 37  1   3  130      250  0   0       187     0     3.5     3     0  3   \n",
       "5 41  0   2  130      204  0   2       172     0     1.4     1     0  3   \n",
       "6 56  1   2  120      236  0   0       178     0     0.8     1     0  3   \n",
       "  diagnosis\n",
       "1 0        \n",
       "2 2        \n",
       "3 1        \n",
       "4 0        \n",
       "5 0        \n",
       "6 0        "
      ]
     },
     "metadata": {},
     "output_type": "display_data"
    }
   ],
   "source": [
    "# Rename the column names and format the column types\n",
    "heart_cleve <- rename(heart_cleve, age = X1,\n",
    "               sex = X2,\n",
    "               cp = X3,\n",
    "               trestbps = X4,\n",
    "               chol = X5,\n",
    "               fbs = X6,\n",
    "               restecg = X7,\n",
    "               thalach = X8,\n",
    "               exang = X9,\n",
    "               oldpeak = X10,\n",
    "               slope = X11,\n",
    "               ca = X12,\n",
    "               thal = X13,\n",
    "               diagnosis = X14) %>% \n",
    "            mutate(diagnosis = as_factor(diagnosis),ca = as.numeric(ca),thal = as.numeric(thal))\n",
    "head(heart_cleve)"
   ]
  },
  {
   "cell_type": "code",
   "execution_count": 29,
   "metadata": {},
   "outputs": [
    {
     "data": {
      "text/html": [
       "<table>\n",
       "<caption>A tibble: 6 × 14</caption>\n",
       "<thead>\n",
       "\t<tr><th scope=col>age</th><th scope=col>sex</th><th scope=col>cp</th><th scope=col>trestbps</th><th scope=col>chol</th><th scope=col>fbs</th><th scope=col>restecg</th><th scope=col>thalach</th><th scope=col>exang</th><th scope=col>oldpeak</th><th scope=col>slope</th><th scope=col>ca</th><th scope=col>thal</th><th scope=col>diagnosis</th></tr>\n",
       "\t<tr><th scope=col>&lt;dbl&gt;</th><th scope=col>&lt;dbl&gt;</th><th scope=col>&lt;dbl&gt;</th><th scope=col>&lt;dbl&gt;</th><th scope=col>&lt;dbl&gt;</th><th scope=col>&lt;dbl&gt;</th><th scope=col>&lt;dbl&gt;</th><th scope=col>&lt;dbl&gt;</th><th scope=col>&lt;dbl&gt;</th><th scope=col>&lt;dbl&gt;</th><th scope=col>&lt;dbl&gt;</th><th scope=col>&lt;dbl&gt;</th><th scope=col>&lt;dbl&gt;</th><th scope=col>&lt;fct&gt;</th></tr>\n",
       "</thead>\n",
       "<tbody>\n",
       "\t<tr><td>63</td><td>1</td><td>1</td><td>145</td><td>233</td><td>1</td><td>2</td><td>150</td><td>0</td><td>2.3</td><td>3</td><td>0</td><td>6</td><td>0</td></tr>\n",
       "\t<tr><td>67</td><td>1</td><td>4</td><td>160</td><td>286</td><td>0</td><td>2</td><td>108</td><td>1</td><td>1.5</td><td>2</td><td>3</td><td>3</td><td>1</td></tr>\n",
       "\t<tr><td>67</td><td>1</td><td>4</td><td>120</td><td>229</td><td>0</td><td>2</td><td>129</td><td>1</td><td>2.6</td><td>2</td><td>2</td><td>7</td><td>1</td></tr>\n",
       "\t<tr><td>37</td><td>1</td><td>3</td><td>130</td><td>250</td><td>0</td><td>0</td><td>187</td><td>0</td><td>3.5</td><td>3</td><td>0</td><td>3</td><td>0</td></tr>\n",
       "\t<tr><td>41</td><td>0</td><td>2</td><td>130</td><td>204</td><td>0</td><td>2</td><td>172</td><td>0</td><td>1.4</td><td>1</td><td>0</td><td>3</td><td>0</td></tr>\n",
       "\t<tr><td>56</td><td>1</td><td>2</td><td>120</td><td>236</td><td>0</td><td>0</td><td>178</td><td>0</td><td>0.8</td><td>1</td><td>0</td><td>3</td><td>0</td></tr>\n",
       "</tbody>\n",
       "</table>\n"
      ],
      "text/latex": [
       "A tibble: 6 × 14\n",
       "\\begin{tabular}{llllllllllllll}\n",
       " age & sex & cp & trestbps & chol & fbs & restecg & thalach & exang & oldpeak & slope & ca & thal & diagnosis\\\\\n",
       " <dbl> & <dbl> & <dbl> & <dbl> & <dbl> & <dbl> & <dbl> & <dbl> & <dbl> & <dbl> & <dbl> & <dbl> & <dbl> & <fct>\\\\\n",
       "\\hline\n",
       "\t 63 & 1 & 1 & 145 & 233 & 1 & 2 & 150 & 0 & 2.3 & 3 & 0 & 6 & 0\\\\\n",
       "\t 67 & 1 & 4 & 160 & 286 & 0 & 2 & 108 & 1 & 1.5 & 2 & 3 & 3 & 1\\\\\n",
       "\t 67 & 1 & 4 & 120 & 229 & 0 & 2 & 129 & 1 & 2.6 & 2 & 2 & 7 & 1\\\\\n",
       "\t 37 & 1 & 3 & 130 & 250 & 0 & 0 & 187 & 0 & 3.5 & 3 & 0 & 3 & 0\\\\\n",
       "\t 41 & 0 & 2 & 130 & 204 & 0 & 2 & 172 & 0 & 1.4 & 1 & 0 & 3 & 0\\\\\n",
       "\t 56 & 1 & 2 & 120 & 236 & 0 & 0 & 178 & 0 & 0.8 & 1 & 0 & 3 & 0\\\\\n",
       "\\end{tabular}\n"
      ],
      "text/markdown": [
       "\n",
       "A tibble: 6 × 14\n",
       "\n",
       "| age &lt;dbl&gt; | sex &lt;dbl&gt; | cp &lt;dbl&gt; | trestbps &lt;dbl&gt; | chol &lt;dbl&gt; | fbs &lt;dbl&gt; | restecg &lt;dbl&gt; | thalach &lt;dbl&gt; | exang &lt;dbl&gt; | oldpeak &lt;dbl&gt; | slope &lt;dbl&gt; | ca &lt;dbl&gt; | thal &lt;dbl&gt; | diagnosis &lt;fct&gt; |\n",
       "|---|---|---|---|---|---|---|---|---|---|---|---|---|---|\n",
       "| 63 | 1 | 1 | 145 | 233 | 1 | 2 | 150 | 0 | 2.3 | 3 | 0 | 6 | 0 |\n",
       "| 67 | 1 | 4 | 160 | 286 | 0 | 2 | 108 | 1 | 1.5 | 2 | 3 | 3 | 1 |\n",
       "| 67 | 1 | 4 | 120 | 229 | 0 | 2 | 129 | 1 | 2.6 | 2 | 2 | 7 | 1 |\n",
       "| 37 | 1 | 3 | 130 | 250 | 0 | 0 | 187 | 0 | 3.5 | 3 | 0 | 3 | 0 |\n",
       "| 41 | 0 | 2 | 130 | 204 | 0 | 2 | 172 | 0 | 1.4 | 1 | 0 | 3 | 0 |\n",
       "| 56 | 1 | 2 | 120 | 236 | 0 | 0 | 178 | 0 | 0.8 | 1 | 0 | 3 | 0 |\n",
       "\n"
      ],
      "text/plain": [
       "  age sex cp trestbps chol fbs restecg thalach exang oldpeak slope ca thal\n",
       "1 63  1   1  145      233  1   2       150     0     2.3     3     0  6   \n",
       "2 67  1   4  160      286  0   2       108     1     1.5     2     3  3   \n",
       "3 67  1   4  120      229  0   2       129     1     2.6     2     2  7   \n",
       "4 37  1   3  130      250  0   0       187     0     3.5     3     0  3   \n",
       "5 41  0   2  130      204  0   2       172     0     1.4     1     0  3   \n",
       "6 56  1   2  120      236  0   0       178     0     0.8     1     0  3   \n",
       "  diagnosis\n",
       "1 0        \n",
       "2 1        \n",
       "3 1        \n",
       "4 0        \n",
       "5 0        \n",
       "6 0        "
      ]
     },
     "metadata": {},
     "output_type": "display_data"
    }
   ],
   "source": [
    "# wrangle the `num` column where 0 indicates absence of heart disease and 1 indicates presence of heart disease.\n",
    "\n",
    "heart_cleve$diagnosis[heart_cleve$diagnosis==2] <- 1\n",
    "heart_cleve$diagnosis[heart_cleve$diagnosis==3] <- 1\n",
    "heart_cleve$diagnosis[heart_cleve$diagnosis==4] <- 1\n",
    "head(heart_cleve)\n",
    "\n",
    "# Source: https://www.geeksforgeeks.org/how-to-replace-specific-values-in-column-in-r-dataframe/"
   ]
  },
  {
   "cell_type": "markdown",
   "metadata": {},
   "source": [
    "#### 3. Summary statistics about the training data"
   ]
  },
  {
   "cell_type": "code",
   "execution_count": 30,
   "metadata": {},
   "outputs": [],
   "source": [
    "# Split the dataset into training and test sets\n",
    "\n",
    "heart_split <- initial_split(heart_cleve,prop=0.75,strata=diagnosis)\n",
    "heart_train <- training(heart_split)\n",
    "heart_test <- testing(heart_split)"
   ]
  },
  {
   "cell_type": "code",
   "execution_count": 31,
   "metadata": {},
   "outputs": [
    {
     "name": "stderr",
     "output_type": "stream",
     "text": [
      "`summarise()` ungrouping output (override with `.groups` argument)\n",
      "\n"
     ]
    },
    {
     "data": {
      "text/html": [
       "<table>\n",
       "<caption>A tibble: 2 × 2</caption>\n",
       "<thead>\n",
       "\t<tr><th scope=col>diagnosis</th><th scope=col>n</th></tr>\n",
       "\t<tr><th scope=col>&lt;fct&gt;</th><th scope=col>&lt;int&gt;</th></tr>\n",
       "</thead>\n",
       "<tbody>\n",
       "\t<tr><td>0</td><td>123</td></tr>\n",
       "\t<tr><td>1</td><td>105</td></tr>\n",
       "</tbody>\n",
       "</table>\n"
      ],
      "text/latex": [
       "A tibble: 2 × 2\n",
       "\\begin{tabular}{ll}\n",
       " diagnosis & n\\\\\n",
       " <fct> & <int>\\\\\n",
       "\\hline\n",
       "\t 0 & 123\\\\\n",
       "\t 1 & 105\\\\\n",
       "\\end{tabular}\n"
      ],
      "text/markdown": [
       "\n",
       "A tibble: 2 × 2\n",
       "\n",
       "| diagnosis &lt;fct&gt; | n &lt;int&gt; |\n",
       "|---|---|\n",
       "| 0 | 123 |\n",
       "| 1 | 105 |\n",
       "\n"
      ],
      "text/plain": [
       "  diagnosis n  \n",
       "1 0         123\n",
       "2 1         105"
      ]
     },
     "metadata": {},
     "output_type": "display_data"
    }
   ],
   "source": [
    "# Summary Statistics about the training data\n",
    "\n",
    "# number of observations in each class\n",
    "heart_sum_class <- heart_train %>% \n",
    "                group_by(diagnosis) %>%\n",
    "                summarise(n=n())\n",
    "heart_sum_class"
   ]
  },
  {
   "cell_type": "code",
   "execution_count": 32,
   "metadata": {},
   "outputs": [
    {
     "data": {
      "text/html": [
       "<table>\n",
       "<caption>A tibble: 8 × 14</caption>\n",
       "<thead>\n",
       "\t<tr><th scope=col>Statistics</th><th scope=col>age</th><th scope=col>sex</th><th scope=col>cp</th><th scope=col>trestbps</th><th scope=col>chol</th><th scope=col>fbs</th><th scope=col>restecg</th><th scope=col>thalach</th><th scope=col>exang</th><th scope=col>oldpeak</th><th scope=col>slope</th><th scope=col>ca</th><th scope=col>thal</th></tr>\n",
       "\t<tr><th scope=col>&lt;chr&gt;</th><th scope=col>&lt;dbl&gt;</th><th scope=col>&lt;dbl&gt;</th><th scope=col>&lt;dbl&gt;</th><th scope=col>&lt;dbl&gt;</th><th scope=col>&lt;dbl&gt;</th><th scope=col>&lt;dbl&gt;</th><th scope=col>&lt;dbl&gt;</th><th scope=col>&lt;dbl&gt;</th><th scope=col>&lt;dbl&gt;</th><th scope=col>&lt;dbl&gt;</th><th scope=col>&lt;dbl&gt;</th><th scope=col>&lt;dbl&gt;</th><th scope=col>&lt;dbl&gt;</th></tr>\n",
       "</thead>\n",
       "<tbody>\n",
       "\t<tr><td>Min               </td><td>29</td><td>0.00</td><td>1.0</td><td> 94</td><td>126</td><td>0.00</td><td>0</td><td> 71</td><td>0.00</td><td>0.00</td><td>1.0</td><td>0.00</td><td>3.0</td></tr>\n",
       "\t<tr><td>First Quartile    </td><td>48</td><td>0.00</td><td>3.0</td><td>120</td><td>210</td><td>0.00</td><td>0</td><td>139</td><td>0.00</td><td>0.00</td><td>1.0</td><td>0.00</td><td>3.0</td></tr>\n",
       "\t<tr><td>Median            </td><td>56</td><td>1.00</td><td>3.5</td><td>130</td><td>238</td><td>0.00</td><td>1</td><td>154</td><td>0.00</td><td>0.75</td><td>2.0</td><td>0.00</td><td>3.0</td></tr>\n",
       "\t<tr><td>Mean              </td><td>55</td><td>0.67</td><td>3.2</td><td>132</td><td>245</td><td>0.14</td><td>1</td><td>150</td><td>0.33</td><td>1.01</td><td>1.6</td><td>0.64</td><td>4.7</td></tr>\n",
       "\t<tr><td>Third Quartile    </td><td>61</td><td>1.00</td><td>4.0</td><td>140</td><td>274</td><td>0.00</td><td>2</td><td>168</td><td>1.00</td><td>1.60</td><td>2.0</td><td>1.00</td><td>7.0</td></tr>\n",
       "\t<tr><td>Max               </td><td>77</td><td>1.00</td><td>4.0</td><td>200</td><td>564</td><td>1.00</td><td>2</td><td>202</td><td>1.00</td><td>6.20</td><td>3.0</td><td>3.00</td><td>7.0</td></tr>\n",
       "\t<tr><td>Range             </td><td>48</td><td>1.00</td><td>3.0</td><td>106</td><td>438</td><td>1.00</td><td>2</td><td>131</td><td>1.00</td><td>6.20</td><td>2.0</td><td>3.00</td><td>4.0</td></tr>\n",
       "\t<tr><td># of Missing Value</td><td> 0</td><td>0.00</td><td>0.0</td><td>  0</td><td>  0</td><td>0.00</td><td>0</td><td>  0</td><td>0.00</td><td>0.00</td><td>0.0</td><td>3.00</td><td>2.0</td></tr>\n",
       "</tbody>\n",
       "</table>\n"
      ],
      "text/latex": [
       "A tibble: 8 × 14\n",
       "\\begin{tabular}{llllllllllllll}\n",
       " Statistics & age & sex & cp & trestbps & chol & fbs & restecg & thalach & exang & oldpeak & slope & ca & thal\\\\\n",
       " <chr> & <dbl> & <dbl> & <dbl> & <dbl> & <dbl> & <dbl> & <dbl> & <dbl> & <dbl> & <dbl> & <dbl> & <dbl> & <dbl>\\\\\n",
       "\\hline\n",
       "\t Min                & 29 & 0.00 & 1.0 &  94 & 126 & 0.00 & 0 &  71 & 0.00 & 0.00 & 1.0 & 0.00 & 3.0\\\\\n",
       "\t First Quartile     & 48 & 0.00 & 3.0 & 120 & 210 & 0.00 & 0 & 139 & 0.00 & 0.00 & 1.0 & 0.00 & 3.0\\\\\n",
       "\t Median             & 56 & 1.00 & 3.5 & 130 & 238 & 0.00 & 1 & 154 & 0.00 & 0.75 & 2.0 & 0.00 & 3.0\\\\\n",
       "\t Mean               & 55 & 0.67 & 3.2 & 132 & 245 & 0.14 & 1 & 150 & 0.33 & 1.01 & 1.6 & 0.64 & 4.7\\\\\n",
       "\t Third Quartile     & 61 & 1.00 & 4.0 & 140 & 274 & 0.00 & 2 & 168 & 1.00 & 1.60 & 2.0 & 1.00 & 7.0\\\\\n",
       "\t Max                & 77 & 1.00 & 4.0 & 200 & 564 & 1.00 & 2 & 202 & 1.00 & 6.20 & 3.0 & 3.00 & 7.0\\\\\n",
       "\t Range              & 48 & 1.00 & 3.0 & 106 & 438 & 1.00 & 2 & 131 & 1.00 & 6.20 & 2.0 & 3.00 & 4.0\\\\\n",
       "\t \\# of Missing Value &  0 & 0.00 & 0.0 &   0 &   0 & 0.00 & 0 &   0 & 0.00 & 0.00 & 0.0 & 3.00 & 2.0\\\\\n",
       "\\end{tabular}\n"
      ],
      "text/markdown": [
       "\n",
       "A tibble: 8 × 14\n",
       "\n",
       "| Statistics &lt;chr&gt; | age &lt;dbl&gt; | sex &lt;dbl&gt; | cp &lt;dbl&gt; | trestbps &lt;dbl&gt; | chol &lt;dbl&gt; | fbs &lt;dbl&gt; | restecg &lt;dbl&gt; | thalach &lt;dbl&gt; | exang &lt;dbl&gt; | oldpeak &lt;dbl&gt; | slope &lt;dbl&gt; | ca &lt;dbl&gt; | thal &lt;dbl&gt; |\n",
       "|---|---|---|---|---|---|---|---|---|---|---|---|---|---|\n",
       "| Min                | 29 | 0.00 | 1.0 |  94 | 126 | 0.00 | 0 |  71 | 0.00 | 0.00 | 1.0 | 0.00 | 3.0 |\n",
       "| First Quartile     | 48 | 0.00 | 3.0 | 120 | 210 | 0.00 | 0 | 139 | 0.00 | 0.00 | 1.0 | 0.00 | 3.0 |\n",
       "| Median             | 56 | 1.00 | 3.5 | 130 | 238 | 0.00 | 1 | 154 | 0.00 | 0.75 | 2.0 | 0.00 | 3.0 |\n",
       "| Mean               | 55 | 0.67 | 3.2 | 132 | 245 | 0.14 | 1 | 150 | 0.33 | 1.01 | 1.6 | 0.64 | 4.7 |\n",
       "| Third Quartile     | 61 | 1.00 | 4.0 | 140 | 274 | 0.00 | 2 | 168 | 1.00 | 1.60 | 2.0 | 1.00 | 7.0 |\n",
       "| Max                | 77 | 1.00 | 4.0 | 200 | 564 | 1.00 | 2 | 202 | 1.00 | 6.20 | 3.0 | 3.00 | 7.0 |\n",
       "| Range              | 48 | 1.00 | 3.0 | 106 | 438 | 1.00 | 2 | 131 | 1.00 | 6.20 | 2.0 | 3.00 | 4.0 |\n",
       "| # of Missing Value |  0 | 0.00 | 0.0 |   0 |   0 | 0.00 | 0 |   0 | 0.00 | 0.00 | 0.0 | 3.00 | 2.0 |\n",
       "\n"
      ],
      "text/plain": [
       "  Statistics         age sex  cp  trestbps chol fbs  restecg thalach exang\n",
       "1 Min                29  0.00 1.0  94      126  0.00 0        71     0.00 \n",
       "2 First Quartile     48  0.00 3.0 120      210  0.00 0       139     0.00 \n",
       "3 Median             56  1.00 3.5 130      238  0.00 1       154     0.00 \n",
       "4 Mean               55  0.67 3.2 132      245  0.14 1       150     0.33 \n",
       "5 Third Quartile     61  1.00 4.0 140      274  0.00 2       168     1.00 \n",
       "6 Max                77  1.00 4.0 200      564  1.00 2       202     1.00 \n",
       "7 Range              48  1.00 3.0 106      438  1.00 2       131     1.00 \n",
       "8 # of Missing Value  0  0.00 0.0   0        0  0.00 0         0     0.00 \n",
       "  oldpeak slope ca   thal\n",
       "1 0.00    1.0   0.00 3.0 \n",
       "2 0.00    1.0   0.00 3.0 \n",
       "3 0.75    2.0   0.00 3.0 \n",
       "4 1.01    1.6   0.64 4.7 \n",
       "5 1.60    2.0   1.00 7.0 \n",
       "6 6.20    3.0   3.00 7.0 \n",
       "7 6.20    2.0   3.00 4.0 \n",
       "8 0.00    0.0   3.00 2.0 "
      ]
     },
     "metadata": {},
     "output_type": "display_data"
    }
   ],
   "source": [
    "# summary statistics of predictor variables used in analysis\n",
    "options(digits=2)\n",
    "heart_percentile <- heart_train %>%\n",
    "                    select(-diagnosis) %>%\n",
    "                    map_df(quantile,na.rm=TRUE) \n",
    "\n",
    "heart_1stQ <- heart_percentile %>%\n",
    "                select('25%') %>%\n",
    "                t()%>%\n",
    "                as.vector()\n",
    "\n",
    "heart_3rdQ <- heart_percentile %>%\n",
    "                select('75%') %>%\n",
    "                t() %>%\n",
    "                as.vector()\n",
    "\n",
    "heart_mean <- heart_train%>% \n",
    "                    select(-diagnosis) %>%\n",
    "                    map_df(mean,na.rm = TRUE)\n",
    "\n",
    "heart_min <- heart_train %>%\n",
    "                    select(-diagnosis) %>%\n",
    "                    map_df(min,na.rm=TRUE)\n",
    "\n",
    "heart_max <- heart_train %>%\n",
    "                    select(-diagnosis) %>%\n",
    "                    map_df(max,na.rm=TRUE)\n",
    "\n",
    "heart_median <- heart_train %>%\n",
    "                    select(-diagnosis) %>%\n",
    "                    map_df(median,na.rm=TRUE)\n",
    "\n",
    "heart_range <- heart_max - heart_min\n",
    "\n",
    "heart_missing <- colSums(is.na(heart_train%>%select(-diagnosis)))\n",
    "# Source: https://stackoverflow.com/questions/26273663/r-how-to-total-the-number-of-na-in-each-col-of-data-frame\n",
    "\n",
    "heart_sum_pred <- rbind(heart_min, heart_1stQ, heart_median,heart_mean, heart_3rdQ, heart_max, heart_range, heart_missing) %>%\n",
    "                    mutate(Statistics=c('Min','First Quartile','Median','Mean','Third Quartile','Max','Range','# of Missing Value'),.before=age)\n",
    "heart_sum_pred"
   ]
  },
  {
   "cell_type": "code",
   "execution_count": 33,
   "metadata": {},
   "outputs": [],
   "source": [
    "#summary(heart_train)"
   ]
  },
  {
   "cell_type": "markdown",
   "metadata": {},
   "source": [
    "#### 4. Visualize the training data\n",
    "    - compare the distributions of each of the predictor variables used in the analysis"
   ]
  },
  {
   "cell_type": "code",
   "execution_count": 46,
   "metadata": {},
   "outputs": [
    {
     "name": "stderr",
     "output_type": "stream",
     "text": [
      "Warning message:\n",
      "“Removed 3 rows containing missing values (geom_point).”\n"
     ]
    },
    {
     "data": {
      "image/png": "[encoded data removed]",
      "text/plain": [
       "plot without title"
      ]
     },
     "metadata": {
      "image/png": {
       "height": 300,
       "width": 420
      }
     },
     "output_type": "display_data"
    }
   ],
   "source": [
    "options(repr.plot.width=7,repr.plot.height=5)\n",
    "age_trestbps <- heart_train %>%\n",
    "ggplot(aes(x=age, y=trestbps, color = diagnosis)) +\n",
    "geom_point() +\n",
    "labs(x = \"Age\", y = \"Resting Blood Pressure Upon Admission to Hospital (mm Hg)\", colour = \"Presence of Heart Disease\") \n",
    "\n",
    "age_chol <- heart_train %>%\n",
    "ggplot(aes(x=age, y=chol, color = diagnosis)) +\n",
    "geom_point() +\n",
    "labs(x = \"Age\", y = \"Serum Cholestoral (mg/dl)\", colour = \"Presence of Heart Disease\") \n",
    "\n",
    "age_thalach <- heart_train %>%\n",
    "ggplot(aes(x=age, y=thalach, color = diagnosis)) +\n",
    "geom_point() +\n",
    "labs(x = \"Age\", y = \"Maximum Heart Rate Achieved\", colour = \"Presence of Heart Disease\") \n",
    "\n",
    "age_oldpeak <- heart_train %>%\n",
    "ggplot(aes(x=age, y=oldpeak, color = diagnosis)) +\n",
    "geom_point() +\n",
    "labs(x = \"Age\", y = \"ST depression induced by exercise relative to rest\", colour = \"Presence of Heart Disease\")\n",
    "\n",
    "age_ca <- heart_train %>%\n",
    "ggplot(aes(x=age, y=ca, color = diagnosis)) +\n",
    "geom_point() +\n",
    "labs(x = \"Age\", y = \"Serum Cholestoral (mg/dl)\", colour = \"Presence of Heart Disease\")\n",
    "\n",
    "trestbps_chol <- heart_train %>%\n",
    "ggplot(aes(x=chol, y=trestbps, color = diagnosis)) +\n",
    "geom_point() +\n",
    "labs(x = \"Age\", y = \"Resting Blood Pressure Upon Admission to Hospital (mm Hg)\", colour = \"Presence of Heart Disease\") \n",
    "\n",
    "trestbps_thalach <- heart_train %>%\n",
    "ggplot(aes(x=thalach, y=trestbps, color = diagnosis)) +\n",
    "geom_point() +\n",
    "labs(x = \"Maximum Heart Rate Achieved\", y = \"Resting Blood Pressure Upon Admission to Hospital (mm Hg)\", colour = \"Presence of Heart Disease\")\n",
    "\n",
    "trestbps_oldpeak <- heart_train %>%\n",
    "ggplot(aes(x=oldpeak, y=trestbps, color = diagnosis)) +\n",
    "geom_point() +\n",
    "labs(x = \"Age\", y = \"Resting Blood Pressure Upon Admission to Hospital (mm Hg)\", colour = \"Presence of Heart Disease\")\n",
    "\n",
    "trestbps_ca <- heart_train %>%\n",
    "ggplot(aes(x=ca, y=trestbps, color = diagnosis)) +\n",
    "geom_point() +\n",
    "labs(x = \"Age\", y = \"Resting Blood Pressure Upon Admission to Hospital (mm Hg)\", colour = \"Presence of Heart Disease\")\n",
    "\n",
    "\n",
    "chol_thalach <- heart_train %>%\n",
    "ggplot(aes(x=thalach, y=chol, color = diagnosis)) +\n",
    "geom_point() +\n",
    "labs(x = \"Maximum Heart Rate Achieved\", y = \"Serum Cholestoral (mg/dl)\", colour = \"Presence of Heart Disease\")\n",
    "\n",
    "chol_oldpeak <- heart_train %>%\n",
    "ggplot(aes(x=oldpeak, y=chol, color = diagnosis)) +\n",
    "geom_point() +\n",
    "labs(x = \"Age\", y = \"Serum Cholestoral (mg/dl)\", colour = \"Presence of Heart Disease\") \n",
    "\n",
    "chol_ca <- heart_train %>%\n",
    "ggplot(aes(x=ca, y=chol, color = diagnosis)) +\n",
    "geom_point() +\n",
    "labs(x = \"Age\", y = \"Serum Cholestoral (mg/dl)\", colour = \"Presence of Heart Disease\") \n",
    "\n",
    "thalach_oldpeak <- heart_train %>%\n",
    "ggplot(aes(x=oldpeak, y=thalach, color = diagnosis)) +\n",
    "geom_point() +\n",
    "labs(x = \"Age\", y = \"Maximum Heart Rate Achieved\", colour = \"Presence of Heart Disease\")\n",
    "\n",
    "thalach_ca <- heart_train %>%\n",
    "ggplot(aes(x=ca, y=thalach, color = diagnosis)) +\n",
    "geom_point() +\n",
    "labs(x = \"Age\", y = \"Maximum Heart Rate Achieved\", colour = \"Presence of Heart Disease\")\n",
    "\n",
    "oldpeak_ca <- heart_train %>%\n",
    "ggplot(aes(x=ca, y=oldpeak, color = diagnosis)) +\n",
    "geom_point() +\n",
    "labs(x = \"Age\", y = \"Serum Cholestoral (mg/dl)\", colour = \"Presence of Heart Disease\")\n",
    "\n",
    "# age_trestbps\n",
    "# age_chol\n",
    "# age_thalach\n",
    "#age_oldpeak\n",
    "# age_ca\n",
    "# trestbps_chol\n",
    "# trestbps_thalach\n",
    "# trestbps_oldpeak\n",
    "# trestbps_ca\n",
    "# chol_thalach\n",
    "# chol_oldpeak\n",
    "# chol_ca\n",
    "# thalach_oldpeak\n",
    "# thalach_ca\n",
    "oldpeak_ca\n",
    "\n",
    "\n",
    "\n",
    "\n",
    "\n",
    "# options(repr.plot.height=10,repr.plot.width=10)\n",
    "# ggpairs(heart_train %>% select(age, trestbps,chol,thalach,oldpeak,ca))"
   ]
  },
  {
   "cell_type": "markdown",
   "metadata": {},
   "source": [
    "## Methods\n",
    "### 1. Explain how to conduct the data analysis\n",
    "**Data Exploration**  \n",
    "Initially, we will review heart disease related literature to get an intuition about the predictors variables to include in the classification task. If possible, we may explore further into predictor variable selection using more advanced methods like forward selection. \n",
    "\n",
    "**Data Modeling**（training set） \n",
    "\n",
    "- ***Data Splitting***  \n",
    "  The dataset will be split into two sets with corresponding percentage assignment: training set (75%) and testing set (25%). \n",
    "\n",
    "- ***Model Training***  \n",
    "  The *K-Nearest Neighbor* algorithm is used to train the classifier for heart disease classification. To find the optimal classifier, we will go through the model tuning process to find the value of K that has the highest prediction accuracy.\n",
    "  \n",
    "- ***Model Tuning***  \n",
    "  Cross-validation is used to tune the classifier. The training set will be split into C folds and iteratively, C-1 folds will be used as the training set to train the classifier and 1 fold will be used as a validation set to calculate the prediction accuracy. In our project, C is chosen to be either 5 or 10.\n",
    "  \n",
    "**Model Testing and Performance Evaluation** (testing set)  \n",
    "The prediction results and the true results are compared to evaluate the prediction power of the classifier. Specifically, the *Accuracy* metric is used for performance evaluation. A confusion matrix will be generated to present the predicted and correct labels.\n",
    "### 2. Explain which variables you will use\n",
    "### 3. Describe at least one way you will visualize the results"
   ]
  },
  {
   "cell_type": "markdown",
   "metadata": {},
   "source": [
    "## Expected Outcomes and Significance\n",
    "- What do you expect to find?\n",
    "- What impact could such findings have?\n",
    "- What future questions could this lead to?"
   ]
  },
  {
   "cell_type": "code",
   "execution_count": null,
   "metadata": {},
   "outputs": [],
   "source": []
  }
 ],
 "metadata": {
  "kernelspec": {
   "display_name": "R",
   "language": "R",
   "name": "ir"
  },
  "language_info": {
   "codemirror_mode": "r",
   "file_extension": ".r",
   "mimetype": "text/x-r-source",
   "name": "R",
   "pygments_lexer": "r",
   "version": "4.0.0"
  }
 },
 "nbformat": 4,
 "nbformat_minor": 4
}
