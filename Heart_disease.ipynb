{
 "cells": [
  {
   "cell_type": "markdown",
   "metadata": {},
   "source": [
    "# Classification of Heart Disease Using K-Nearest Neighbor"
   ]
  },
  {
   "cell_type": "markdown",
   "metadata": {},
   "source": [
    "## Introduction\n",
    "Many people die of cardiovascular diseases without knowing they have a problem with their heart. Unexpected deaths as such can be prevented with early diagnoses of cardiovascular issues and proper medication. In this project, we are trying to answer: Can available patient data and the KNN classification algorithm be used to detect the presence of heart diseases? If so, how accurate could it be and how to use it correctly in actual practice? The heart disease dataset we are using is obtained form the UCI machine learning repository (https://archive.ics.uci.edu/ml/datasets/Heart+Disease). It contains 303 patient instances and 14 attributes collected from Cleveland.  "
   ]
  },
  {
   "cell_type": "markdown",
   "metadata": {},
   "source": [
    "## Preliminary Exploratory Data Analysis\n",
    "#### 1. Download and Read the dataset from the web (use URL)"
   ]
  },
  {
   "cell_type": "code",
   "execution_count": 2,
   "metadata": {},
   "outputs": [],
   "source": [
    "# Call packages that will be used.\n",
    "library(tidyverse)\n",
    "library(tidymodels)"
   ]
  },
  {
   "cell_type": "code",
   "execution_count": 3,
   "metadata": {},
   "outputs": [],
   "source": [
    "# Set the value of seed to ensure reproducibility\n",
    "set.seed(200)"
   ]
  },
  {
   "cell_type": "code",
   "execution_count": 4,
   "metadata": {},
   "outputs": [],
   "source": [
    "# To download the dataset from the web\n",
    "url <- 'https://archive.ics.uci.edu/ml/machine-learning-databases/heart-disease/processed.cleveland.data'\n",
    "download.file(url,destfile='HeartDisease_Cleveland.csv')"
   ]
  },
  {
   "cell_type": "code",
   "execution_count": 5,
   "metadata": {},
   "outputs": [
    {
     "name": "stderr",
     "output_type": "stream",
     "text": [
      "Parsed with column specification:\n",
      "cols(\n",
      "  X1 = \u001b[32mcol_double()\u001b[39m,\n",
      "  X2 = \u001b[32mcol_double()\u001b[39m,\n",
      "  X3 = \u001b[32mcol_double()\u001b[39m,\n",
      "  X4 = \u001b[32mcol_double()\u001b[39m,\n",
      "  X5 = \u001b[32mcol_double()\u001b[39m,\n",
      "  X6 = \u001b[32mcol_double()\u001b[39m,\n",
      "  X7 = \u001b[32mcol_double()\u001b[39m,\n",
      "  X8 = \u001b[32mcol_double()\u001b[39m,\n",
      "  X9 = \u001b[32mcol_double()\u001b[39m,\n",
      "  X10 = \u001b[32mcol_double()\u001b[39m,\n",
      "  X11 = \u001b[32mcol_double()\u001b[39m,\n",
      "  X12 = \u001b[31mcol_character()\u001b[39m,\n",
      "  X13 = \u001b[31mcol_character()\u001b[39m,\n",
      "  X14 = \u001b[32mcol_double()\u001b[39m\n",
      ")\n",
      "\n"
     ]
    },
    {
     "data": {
      "text/html": [
       "<table>\n",
       "<caption>A tibble: 6 × 14</caption>\n",
       "<thead>\n",
       "\t<tr><th scope=col>X1</th><th scope=col>X2</th><th scope=col>X3</th><th scope=col>X4</th><th scope=col>X5</th><th scope=col>X6</th><th scope=col>X7</th><th scope=col>X8</th><th scope=col>X9</th><th scope=col>X10</th><th scope=col>X11</th><th scope=col>X12</th><th scope=col>X13</th><th scope=col>X14</th></tr>\n",
       "\t<tr><th scope=col>&lt;dbl&gt;</th><th scope=col>&lt;dbl&gt;</th><th scope=col>&lt;dbl&gt;</th><th scope=col>&lt;dbl&gt;</th><th scope=col>&lt;dbl&gt;</th><th scope=col>&lt;dbl&gt;</th><th scope=col>&lt;dbl&gt;</th><th scope=col>&lt;dbl&gt;</th><th scope=col>&lt;dbl&gt;</th><th scope=col>&lt;dbl&gt;</th><th scope=col>&lt;dbl&gt;</th><th scope=col>&lt;chr&gt;</th><th scope=col>&lt;chr&gt;</th><th scope=col>&lt;dbl&gt;</th></tr>\n",
       "</thead>\n",
       "<tbody>\n",
       "\t<tr><td>63</td><td>1</td><td>1</td><td>145</td><td>233</td><td>1</td><td>2</td><td>150</td><td>0</td><td>2.3</td><td>3</td><td>0.0</td><td>6.0</td><td>0</td></tr>\n",
       "\t<tr><td>67</td><td>1</td><td>4</td><td>160</td><td>286</td><td>0</td><td>2</td><td>108</td><td>1</td><td>1.5</td><td>2</td><td>3.0</td><td>3.0</td><td>2</td></tr>\n",
       "\t<tr><td>67</td><td>1</td><td>4</td><td>120</td><td>229</td><td>0</td><td>2</td><td>129</td><td>1</td><td>2.6</td><td>2</td><td>2.0</td><td>7.0</td><td>1</td></tr>\n",
       "\t<tr><td>37</td><td>1</td><td>3</td><td>130</td><td>250</td><td>0</td><td>0</td><td>187</td><td>0</td><td>3.5</td><td>3</td><td>0.0</td><td>3.0</td><td>0</td></tr>\n",
       "\t<tr><td>41</td><td>0</td><td>2</td><td>130</td><td>204</td><td>0</td><td>2</td><td>172</td><td>0</td><td>1.4</td><td>1</td><td>0.0</td><td>3.0</td><td>0</td></tr>\n",
       "\t<tr><td>56</td><td>1</td><td>2</td><td>120</td><td>236</td><td>0</td><td>0</td><td>178</td><td>0</td><td>0.8</td><td>1</td><td>0.0</td><td>3.0</td><td>0</td></tr>\n",
       "</tbody>\n",
       "</table>\n"
      ],
      "text/latex": [
       "A tibble: 6 × 14\n",
       "\\begin{tabular}{llllllllllllll}\n",
       " X1 & X2 & X3 & X4 & X5 & X6 & X7 & X8 & X9 & X10 & X11 & X12 & X13 & X14\\\\\n",
       " <dbl> & <dbl> & <dbl> & <dbl> & <dbl> & <dbl> & <dbl> & <dbl> & <dbl> & <dbl> & <dbl> & <chr> & <chr> & <dbl>\\\\\n",
       "\\hline\n",
       "\t 63 & 1 & 1 & 145 & 233 & 1 & 2 & 150 & 0 & 2.3 & 3 & 0.0 & 6.0 & 0\\\\\n",
       "\t 67 & 1 & 4 & 160 & 286 & 0 & 2 & 108 & 1 & 1.5 & 2 & 3.0 & 3.0 & 2\\\\\n",
       "\t 67 & 1 & 4 & 120 & 229 & 0 & 2 & 129 & 1 & 2.6 & 2 & 2.0 & 7.0 & 1\\\\\n",
       "\t 37 & 1 & 3 & 130 & 250 & 0 & 0 & 187 & 0 & 3.5 & 3 & 0.0 & 3.0 & 0\\\\\n",
       "\t 41 & 0 & 2 & 130 & 204 & 0 & 2 & 172 & 0 & 1.4 & 1 & 0.0 & 3.0 & 0\\\\\n",
       "\t 56 & 1 & 2 & 120 & 236 & 0 & 0 & 178 & 0 & 0.8 & 1 & 0.0 & 3.0 & 0\\\\\n",
       "\\end{tabular}\n"
      ],
      "text/markdown": [
       "\n",
       "A tibble: 6 × 14\n",
       "\n",
       "| X1 &lt;dbl&gt; | X2 &lt;dbl&gt; | X3 &lt;dbl&gt; | X4 &lt;dbl&gt; | X5 &lt;dbl&gt; | X6 &lt;dbl&gt; | X7 &lt;dbl&gt; | X8 &lt;dbl&gt; | X9 &lt;dbl&gt; | X10 &lt;dbl&gt; | X11 &lt;dbl&gt; | X12 &lt;chr&gt; | X13 &lt;chr&gt; | X14 &lt;dbl&gt; |\n",
       "|---|---|---|---|---|---|---|---|---|---|---|---|---|---|\n",
       "| 63 | 1 | 1 | 145 | 233 | 1 | 2 | 150 | 0 | 2.3 | 3 | 0.0 | 6.0 | 0 |\n",
       "| 67 | 1 | 4 | 160 | 286 | 0 | 2 | 108 | 1 | 1.5 | 2 | 3.0 | 3.0 | 2 |\n",
       "| 67 | 1 | 4 | 120 | 229 | 0 | 2 | 129 | 1 | 2.6 | 2 | 2.0 | 7.0 | 1 |\n",
       "| 37 | 1 | 3 | 130 | 250 | 0 | 0 | 187 | 0 | 3.5 | 3 | 0.0 | 3.0 | 0 |\n",
       "| 41 | 0 | 2 | 130 | 204 | 0 | 2 | 172 | 0 | 1.4 | 1 | 0.0 | 3.0 | 0 |\n",
       "| 56 | 1 | 2 | 120 | 236 | 0 | 0 | 178 | 0 | 0.8 | 1 | 0.0 | 3.0 | 0 |\n",
       "\n"
      ],
      "text/plain": [
       "  X1 X2 X3 X4  X5  X6 X7 X8  X9 X10 X11 X12 X13 X14\n",
       "1 63 1  1  145 233 1  2  150 0  2.3 3   0.0 6.0 0  \n",
       "2 67 1  4  160 286 0  2  108 1  1.5 2   3.0 3.0 2  \n",
       "3 67 1  4  120 229 0  2  129 1  2.6 2   2.0 7.0 1  \n",
       "4 37 1  3  130 250 0  0  187 0  3.5 3   0.0 3.0 0  \n",
       "5 41 0  2  130 204 0  2  172 0  1.4 1   0.0 3.0 0  \n",
       "6 56 1  2  120 236 0  0  178 0  0.8 1   0.0 3.0 0  "
      ]
     },
     "metadata": {},
     "output_type": "display_data"
    }
   ],
   "source": [
    "# Read the 'HeartDisease_Cleveland.csv' file into a dataframe\n",
    "heart_cleve <- read_csv('HeartDisease_Cleveland.csv',col_names=FALSE)\n",
    "head(heart_cleve)"
   ]
  },
  {
   "cell_type": "markdown",
   "metadata": {},
   "source": [
    "#### 2. Clean and Wrangle data into tidy format"
   ]
  },
  {
   "cell_type": "code",
   "execution_count": 6,
   "metadata": {},
   "outputs": [
    {
     "name": "stderr",
     "output_type": "stream",
     "text": [
      "Warning message:\n",
      "“Problem with `mutate()` input `ca`.\n",
      "\u001b[34mℹ\u001b[39m NAs introduced by coercion\n",
      "\u001b[34mℹ\u001b[39m Input `ca` is `as.numeric(ca)`.”\n",
      "Warning message in mask$eval_all_mutate(dots[[i]]):\n",
      "“NAs introduced by coercion”\n"
     ]
    },
    {
     "data": {
      "text/html": [
       "<table>\n",
       "<caption>A tibble: 6 × 14</caption>\n",
       "<thead>\n",
       "\t<tr><th scope=col>age</th><th scope=col>sex</th><th scope=col>cp</th><th scope=col>trestbps</th><th scope=col>chol</th><th scope=col>fbs</th><th scope=col>restecg</th><th scope=col>thalach</th><th scope=col>exang</th><th scope=col>oldpeak</th><th scope=col>slope</th><th scope=col>ca</th><th scope=col>thal</th><th scope=col>num</th></tr>\n",
       "\t<tr><th scope=col>&lt;dbl&gt;</th><th scope=col>&lt;dbl&gt;</th><th scope=col>&lt;dbl&gt;</th><th scope=col>&lt;dbl&gt;</th><th scope=col>&lt;dbl&gt;</th><th scope=col>&lt;dbl&gt;</th><th scope=col>&lt;dbl&gt;</th><th scope=col>&lt;dbl&gt;</th><th scope=col>&lt;dbl&gt;</th><th scope=col>&lt;dbl&gt;</th><th scope=col>&lt;dbl&gt;</th><th scope=col>&lt;dbl&gt;</th><th scope=col>&lt;dbl&gt;</th><th scope=col>&lt;fct&gt;</th></tr>\n",
       "</thead>\n",
       "<tbody>\n",
       "\t<tr><td>63</td><td>1</td><td>1</td><td>145</td><td>233</td><td>1</td><td>2</td><td>150</td><td>0</td><td>2.3</td><td>3</td><td>0</td><td>0</td><td>0</td></tr>\n",
       "\t<tr><td>67</td><td>1</td><td>4</td><td>160</td><td>286</td><td>0</td><td>2</td><td>108</td><td>1</td><td>1.5</td><td>2</td><td>3</td><td>3</td><td>2</td></tr>\n",
       "\t<tr><td>67</td><td>1</td><td>4</td><td>120</td><td>229</td><td>0</td><td>2</td><td>129</td><td>1</td><td>2.6</td><td>2</td><td>2</td><td>2</td><td>1</td></tr>\n",
       "\t<tr><td>37</td><td>1</td><td>3</td><td>130</td><td>250</td><td>0</td><td>0</td><td>187</td><td>0</td><td>3.5</td><td>3</td><td>0</td><td>0</td><td>0</td></tr>\n",
       "\t<tr><td>41</td><td>0</td><td>2</td><td>130</td><td>204</td><td>0</td><td>2</td><td>172</td><td>0</td><td>1.4</td><td>1</td><td>0</td><td>0</td><td>0</td></tr>\n",
       "\t<tr><td>56</td><td>1</td><td>2</td><td>120</td><td>236</td><td>0</td><td>0</td><td>178</td><td>0</td><td>0.8</td><td>1</td><td>0</td><td>0</td><td>0</td></tr>\n",
       "</tbody>\n",
       "</table>\n"
      ],
      "text/latex": [
       "A tibble: 6 × 14\n",
       "\\begin{tabular}{llllllllllllll}\n",
       " age & sex & cp & trestbps & chol & fbs & restecg & thalach & exang & oldpeak & slope & ca & thal & num\\\\\n",
       " <dbl> & <dbl> & <dbl> & <dbl> & <dbl> & <dbl> & <dbl> & <dbl> & <dbl> & <dbl> & <dbl> & <dbl> & <dbl> & <fct>\\\\\n",
       "\\hline\n",
       "\t 63 & 1 & 1 & 145 & 233 & 1 & 2 & 150 & 0 & 2.3 & 3 & 0 & 0 & 0\\\\\n",
       "\t 67 & 1 & 4 & 160 & 286 & 0 & 2 & 108 & 1 & 1.5 & 2 & 3 & 3 & 2\\\\\n",
       "\t 67 & 1 & 4 & 120 & 229 & 0 & 2 & 129 & 1 & 2.6 & 2 & 2 & 2 & 1\\\\\n",
       "\t 37 & 1 & 3 & 130 & 250 & 0 & 0 & 187 & 0 & 3.5 & 3 & 0 & 0 & 0\\\\\n",
       "\t 41 & 0 & 2 & 130 & 204 & 0 & 2 & 172 & 0 & 1.4 & 1 & 0 & 0 & 0\\\\\n",
       "\t 56 & 1 & 2 & 120 & 236 & 0 & 0 & 178 & 0 & 0.8 & 1 & 0 & 0 & 0\\\\\n",
       "\\end{tabular}\n"
      ],
      "text/markdown": [
       "\n",
       "A tibble: 6 × 14\n",
       "\n",
       "| age &lt;dbl&gt; | sex &lt;dbl&gt; | cp &lt;dbl&gt; | trestbps &lt;dbl&gt; | chol &lt;dbl&gt; | fbs &lt;dbl&gt; | restecg &lt;dbl&gt; | thalach &lt;dbl&gt; | exang &lt;dbl&gt; | oldpeak &lt;dbl&gt; | slope &lt;dbl&gt; | ca &lt;dbl&gt; | thal &lt;dbl&gt; | num &lt;fct&gt; |\n",
       "|---|---|---|---|---|---|---|---|---|---|---|---|---|---|\n",
       "| 63 | 1 | 1 | 145 | 233 | 1 | 2 | 150 | 0 | 2.3 | 3 | 0 | 0 | 0 |\n",
       "| 67 | 1 | 4 | 160 | 286 | 0 | 2 | 108 | 1 | 1.5 | 2 | 3 | 3 | 2 |\n",
       "| 67 | 1 | 4 | 120 | 229 | 0 | 2 | 129 | 1 | 2.6 | 2 | 2 | 2 | 1 |\n",
       "| 37 | 1 | 3 | 130 | 250 | 0 | 0 | 187 | 0 | 3.5 | 3 | 0 | 0 | 0 |\n",
       "| 41 | 0 | 2 | 130 | 204 | 0 | 2 | 172 | 0 | 1.4 | 1 | 0 | 0 | 0 |\n",
       "| 56 | 1 | 2 | 120 | 236 | 0 | 0 | 178 | 0 | 0.8 | 1 | 0 | 0 | 0 |\n",
       "\n"
      ],
      "text/plain": [
       "  age sex cp trestbps chol fbs restecg thalach exang oldpeak slope ca thal num\n",
       "1 63  1   1  145      233  1   2       150     0     2.3     3     0  0    0  \n",
       "2 67  1   4  160      286  0   2       108     1     1.5     2     3  3    2  \n",
       "3 67  1   4  120      229  0   2       129     1     2.6     2     2  2    1  \n",
       "4 37  1   3  130      250  0   0       187     0     3.5     3     0  0    0  \n",
       "5 41  0   2  130      204  0   2       172     0     1.4     1     0  0    0  \n",
       "6 56  1   2  120      236  0   0       178     0     0.8     1     0  0    0  "
      ]
     },
     "metadata": {},
     "output_type": "display_data"
    }
   ],
   "source": [
    "# Clean and Wrangle the data into tidy format\n",
    "heart_cleve <- rename(heart_cleve, age = X1,\n",
    "               sex = X2,\n",
    "               cp = X3,\n",
    "               trestbps = X4,\n",
    "               chol = X5,\n",
    "               fbs = X6,\n",
    "               restecg = X7,\n",
    "               thalach = X8,\n",
    "               exang = X9,\n",
    "               oldpeak = X10,\n",
    "               slope = X11,\n",
    "               ca = X12,\n",
    "               thal = X13,\n",
    "               num = X14) %>% \n",
    "            mutate(num = as_factor(num),ca = as.numeric(ca),thal = as.numeric(ca))\n",
    "head(heart_cleve)"
   ]
  },
  {
   "cell_type": "markdown",
   "metadata": {},
   "source": [
    "#### 4. Summary statistics about the training data"
   ]
  },
  {
   "cell_type": "code",
   "execution_count": 7,
   "metadata": {},
   "outputs": [],
   "source": [
    "# Split the dataset into training and test sets\n",
    "\n",
    "heart_split <- initial_split(heart_cleve,prop=0.75,strata=num)\n",
    "heart_train <- training(heart_split)\n",
    "heart_test <- testing(heart_split)"
   ]
  },
  {
   "cell_type": "code",
   "execution_count": 8,
   "metadata": {},
   "outputs": [
    {
     "name": "stderr",
     "output_type": "stream",
     "text": [
      "`summarise()` ungrouping output (override with `.groups` argument)\n",
      "\n"
     ]
    },
    {
     "data": {
      "text/html": [
       "<table>\n",
       "<caption>A tibble: 5 × 2</caption>\n",
       "<thead>\n",
       "\t<tr><th scope=col>num</th><th scope=col>n</th></tr>\n",
       "\t<tr><th scope=col>&lt;fct&gt;</th><th scope=col>&lt;int&gt;</th></tr>\n",
       "</thead>\n",
       "<tbody>\n",
       "\t<tr><td>0</td><td>123</td></tr>\n",
       "\t<tr><td>1</td><td> 40</td></tr>\n",
       "\t<tr><td>2</td><td> 28</td></tr>\n",
       "\t<tr><td>3</td><td> 28</td></tr>\n",
       "\t<tr><td>4</td><td> 10</td></tr>\n",
       "</tbody>\n",
       "</table>\n"
      ],
      "text/latex": [
       "A tibble: 5 × 2\n",
       "\\begin{tabular}{ll}\n",
       " num & n\\\\\n",
       " <fct> & <int>\\\\\n",
       "\\hline\n",
       "\t 0 & 123\\\\\n",
       "\t 1 &  40\\\\\n",
       "\t 2 &  28\\\\\n",
       "\t 3 &  28\\\\\n",
       "\t 4 &  10\\\\\n",
       "\\end{tabular}\n"
      ],
      "text/markdown": [
       "\n",
       "A tibble: 5 × 2\n",
       "\n",
       "| num &lt;fct&gt; | n &lt;int&gt; |\n",
       "|---|---|\n",
       "| 0 | 123 |\n",
       "| 1 |  40 |\n",
       "| 2 |  28 |\n",
       "| 3 |  28 |\n",
       "| 4 |  10 |\n",
       "\n"
      ],
      "text/plain": [
       "  num n  \n",
       "1 0   123\n",
       "2 1    40\n",
       "3 2    28\n",
       "4 3    28\n",
       "5 4    10"
      ]
     },
     "metadata": {},
     "output_type": "display_data"
    }
   ],
   "source": [
    "# Summary Statistics about the training data\n",
    "\n",
    "# number of observations in each class\n",
    "heart_sum_class <- heart_train %>% \n",
    "                group_by(num) %>%\n",
    "                summarise(n=n())\n",
    "heart_sum_class"
   ]
  },
  {
   "cell_type": "code",
   "execution_count": 10,
   "metadata": {},
   "outputs": [
    {
     "data": {
      "text/html": [
       "<table>\n",
       "<caption>A tibble: 8 × 14</caption>\n",
       "<thead>\n",
       "\t<tr><th scope=col>Statistics</th><th scope=col>age</th><th scope=col>sex</th><th scope=col>cp</th><th scope=col>trestbps</th><th scope=col>chol</th><th scope=col>fbs</th><th scope=col>restecg</th><th scope=col>thalach</th><th scope=col>exang</th><th scope=col>oldpeak</th><th scope=col>slope</th><th scope=col>ca</th><th scope=col>thal</th></tr>\n",
       "\t<tr><th scope=col>&lt;chr&gt;</th><th scope=col>&lt;dbl&gt;</th><th scope=col>&lt;dbl&gt;</th><th scope=col>&lt;dbl&gt;</th><th scope=col>&lt;dbl&gt;</th><th scope=col>&lt;dbl&gt;</th><th scope=col>&lt;dbl&gt;</th><th scope=col>&lt;dbl&gt;</th><th scope=col>&lt;dbl&gt;</th><th scope=col>&lt;dbl&gt;</th><th scope=col>&lt;dbl&gt;</th><th scope=col>&lt;dbl&gt;</th><th scope=col>&lt;dbl&gt;</th><th scope=col>&lt;dbl&gt;</th></tr>\n",
       "</thead>\n",
       "<tbody>\n",
       "\t<tr><td>Min               </td><td>29</td><td>0.00</td><td>1.0</td><td> 94</td><td>126</td><td>0.00</td><td>0</td><td> 71</td><td>0.0</td><td>0.0</td><td>1.0</td><td>0.00</td><td>0.00</td></tr>\n",
       "\t<tr><td>First Quartile    </td><td>48</td><td>0.00</td><td>3.0</td><td>120</td><td>209</td><td>0.00</td><td>0</td><td>133</td><td>0.0</td><td>0.0</td><td>1.0</td><td>0.00</td><td>0.00</td></tr>\n",
       "\t<tr><td>Median            </td><td>55</td><td>1.00</td><td>3.0</td><td>130</td><td>239</td><td>0.00</td><td>1</td><td>153</td><td>0.0</td><td>0.8</td><td>2.0</td><td>0.00</td><td>0.00</td></tr>\n",
       "\t<tr><td>Mean              </td><td>54</td><td>0.68</td><td>3.2</td><td>132</td><td>246</td><td>0.15</td><td>1</td><td>149</td><td>0.3</td><td>1.0</td><td>1.6</td><td>0.64</td><td>0.64</td></tr>\n",
       "\t<tr><td>Third Quartile    </td><td>61</td><td>1.00</td><td>4.0</td><td>140</td><td>274</td><td>0.00</td><td>2</td><td>166</td><td>1.0</td><td>1.6</td><td>2.0</td><td>1.00</td><td>1.00</td></tr>\n",
       "\t<tr><td>Max               </td><td>77</td><td>1.00</td><td>4.0</td><td>200</td><td>564</td><td>1.00</td><td>2</td><td>202</td><td>1.0</td><td>6.2</td><td>3.0</td><td>3.00</td><td>3.00</td></tr>\n",
       "\t<tr><td>Range             </td><td>48</td><td>1.00</td><td>3.0</td><td>106</td><td>438</td><td>1.00</td><td>2</td><td>131</td><td>1.0</td><td>6.2</td><td>2.0</td><td>3.00</td><td>3.00</td></tr>\n",
       "\t<tr><td># of Missing Value</td><td> 0</td><td>0.00</td><td>0.0</td><td>  0</td><td>  0</td><td>0.00</td><td>0</td><td>  0</td><td>0.0</td><td>0.0</td><td>0.0</td><td>3.00</td><td>3.00</td></tr>\n",
       "</tbody>\n",
       "</table>\n"
      ],
      "text/latex": [
       "A tibble: 8 × 14\n",
       "\\begin{tabular}{llllllllllllll}\n",
       " Statistics & age & sex & cp & trestbps & chol & fbs & restecg & thalach & exang & oldpeak & slope & ca & thal\\\\\n",
       " <chr> & <dbl> & <dbl> & <dbl> & <dbl> & <dbl> & <dbl> & <dbl> & <dbl> & <dbl> & <dbl> & <dbl> & <dbl> & <dbl>\\\\\n",
       "\\hline\n",
       "\t Min                & 29 & 0.00 & 1.0 &  94 & 126 & 0.00 & 0 &  71 & 0.0 & 0.0 & 1.0 & 0.00 & 0.00\\\\\n",
       "\t First Quartile     & 48 & 0.00 & 3.0 & 120 & 209 & 0.00 & 0 & 133 & 0.0 & 0.0 & 1.0 & 0.00 & 0.00\\\\\n",
       "\t Median             & 55 & 1.00 & 3.0 & 130 & 239 & 0.00 & 1 & 153 & 0.0 & 0.8 & 2.0 & 0.00 & 0.00\\\\\n",
       "\t Mean               & 54 & 0.68 & 3.2 & 132 & 246 & 0.15 & 1 & 149 & 0.3 & 1.0 & 1.6 & 0.64 & 0.64\\\\\n",
       "\t Third Quartile     & 61 & 1.00 & 4.0 & 140 & 274 & 0.00 & 2 & 166 & 1.0 & 1.6 & 2.0 & 1.00 & 1.00\\\\\n",
       "\t Max                & 77 & 1.00 & 4.0 & 200 & 564 & 1.00 & 2 & 202 & 1.0 & 6.2 & 3.0 & 3.00 & 3.00\\\\\n",
       "\t Range              & 48 & 1.00 & 3.0 & 106 & 438 & 1.00 & 2 & 131 & 1.0 & 6.2 & 2.0 & 3.00 & 3.00\\\\\n",
       "\t \\# of Missing Value &  0 & 0.00 & 0.0 &   0 &   0 & 0.00 & 0 &   0 & 0.0 & 0.0 & 0.0 & 3.00 & 3.00\\\\\n",
       "\\end{tabular}\n"
      ],
      "text/markdown": [
       "\n",
       "A tibble: 8 × 14\n",
       "\n",
       "| Statistics &lt;chr&gt; | age &lt;dbl&gt; | sex &lt;dbl&gt; | cp &lt;dbl&gt; | trestbps &lt;dbl&gt; | chol &lt;dbl&gt; | fbs &lt;dbl&gt; | restecg &lt;dbl&gt; | thalach &lt;dbl&gt; | exang &lt;dbl&gt; | oldpeak &lt;dbl&gt; | slope &lt;dbl&gt; | ca &lt;dbl&gt; | thal &lt;dbl&gt; |\n",
       "|---|---|---|---|---|---|---|---|---|---|---|---|---|---|\n",
       "| Min                | 29 | 0.00 | 1.0 |  94 | 126 | 0.00 | 0 |  71 | 0.0 | 0.0 | 1.0 | 0.00 | 0.00 |\n",
       "| First Quartile     | 48 | 0.00 | 3.0 | 120 | 209 | 0.00 | 0 | 133 | 0.0 | 0.0 | 1.0 | 0.00 | 0.00 |\n",
       "| Median             | 55 | 1.00 | 3.0 | 130 | 239 | 0.00 | 1 | 153 | 0.0 | 0.8 | 2.0 | 0.00 | 0.00 |\n",
       "| Mean               | 54 | 0.68 | 3.2 | 132 | 246 | 0.15 | 1 | 149 | 0.3 | 1.0 | 1.6 | 0.64 | 0.64 |\n",
       "| Third Quartile     | 61 | 1.00 | 4.0 | 140 | 274 | 0.00 | 2 | 166 | 1.0 | 1.6 | 2.0 | 1.00 | 1.00 |\n",
       "| Max                | 77 | 1.00 | 4.0 | 200 | 564 | 1.00 | 2 | 202 | 1.0 | 6.2 | 3.0 | 3.00 | 3.00 |\n",
       "| Range              | 48 | 1.00 | 3.0 | 106 | 438 | 1.00 | 2 | 131 | 1.0 | 6.2 | 2.0 | 3.00 | 3.00 |\n",
       "| # of Missing Value |  0 | 0.00 | 0.0 |   0 |   0 | 0.00 | 0 |   0 | 0.0 | 0.0 | 0.0 | 3.00 | 3.00 |\n",
       "\n"
      ],
      "text/plain": [
       "  Statistics         age sex  cp  trestbps chol fbs  restecg thalach exang\n",
       "1 Min                29  0.00 1.0  94      126  0.00 0        71     0.0  \n",
       "2 First Quartile     48  0.00 3.0 120      209  0.00 0       133     0.0  \n",
       "3 Median             55  1.00 3.0 130      239  0.00 1       153     0.0  \n",
       "4 Mean               54  0.68 3.2 132      246  0.15 1       149     0.3  \n",
       "5 Third Quartile     61  1.00 4.0 140      274  0.00 2       166     1.0  \n",
       "6 Max                77  1.00 4.0 200      564  1.00 2       202     1.0  \n",
       "7 Range              48  1.00 3.0 106      438  1.00 2       131     1.0  \n",
       "8 # of Missing Value  0  0.00 0.0   0        0  0.00 0         0     0.0  \n",
       "  oldpeak slope ca   thal\n",
       "1 0.0     1.0   0.00 0.00\n",
       "2 0.0     1.0   0.00 0.00\n",
       "3 0.8     2.0   0.00 0.00\n",
       "4 1.0     1.6   0.64 0.64\n",
       "5 1.6     2.0   1.00 1.00\n",
       "6 6.2     3.0   3.00 3.00\n",
       "7 6.2     2.0   3.00 3.00\n",
       "8 0.0     0.0   3.00 3.00"
      ]
     },
     "metadata": {},
     "output_type": "display_data"
    }
   ],
   "source": [
    "# summary statistics of predictor variables used in analysis\n",
    "options(digits=2)\n",
    "heart_percentile <- heart_train %>%\n",
    "                    select(-num) %>%\n",
    "                    map_df(quantile,na.rm=TRUE) \n",
    "\n",
    "heart_1stQ <- heart_percentile %>%\n",
    "                select('25%') %>%\n",
    "                t()%>%\n",
    "                as.vector()\n",
    "\n",
    "heart_3rdQ <- heart_percentile %>%\n",
    "                select('75%') %>%\n",
    "                t() %>%\n",
    "                as.vector()\n",
    "\n",
    "heart_mean <- heart_train%>% \n",
    "                    select(-num) %>%\n",
    "                    map_df(mean,na.rm = TRUE)\n",
    "\n",
    "heart_min <- heart_train %>%\n",
    "                    select(-num) %>%\n",
    "                    map_df(min,na.rm=TRUE)\n",
    "\n",
    "heart_max <- heart_train %>%\n",
    "                    select(-num) %>%\n",
    "                    map_df(max,na.rm=TRUE)\n",
    "\n",
    "heart_median <- heart_train %>%\n",
    "                    select(-num) %>%\n",
    "                    map_df(median,na.rm=TRUE)\n",
    "\n",
    "heart_range <- heart_max - heart_min\n",
    "\n",
    "heart_missing <- colSums(is.na(heart_train%>%select(-num)))\n",
    "# Source: https://stackoverflow.com/questions/26273663/r-how-to-total-the-number-of-na-in-each-col-of-data-frame\n",
    "\n",
    "heart_sum_pred <- rbind(heart_min, heart_1stQ, heart_median,heart_mean, heart_3rdQ, heart_max, heart_range, heart_missing) %>%\n",
    "                    mutate(Statistics=c('Min','First Quartile','Median','Mean','Third Quartile','Max','Range','# of Missing Value'),.before=age)\n",
    "heart_sum_pred"
   ]
  },
  {
   "cell_type": "code",
   "execution_count": 11,
   "metadata": {},
   "outputs": [],
   "source": [
    "#summary(heart_train)"
   ]
  },
  {
   "cell_type": "markdown",
   "metadata": {},
   "source": [
    "#### 4. Visualize the training data\n",
    "    - compare the distributions of each of the predictor variables used in the analysis"
   ]
  },
  {
   "cell_type": "code",
   "execution_count": 14,
   "metadata": {},
   "outputs": [
    {
     "data": {
      "image/png": "[encoded data removed]",
      "text/plain": [
       "plot without title"
      ]
     },
     "metadata": {
      "image/png": {
       "height": 300,
       "width": 420
      }
     },
     "output_type": "display_data"
    }
   ],
   "source": [
    "options(repr.plot.width=7,repr.plot.height=5)\n",
    "heart_plot <- heart_train %>%\n",
    "ggplot(aes(x=age, y=trestbps, colour = thal)) +\n",
    "geom_point() +\n",
    "labs(x = \"Age\", y = \"Resting Blood Pressure Upon Admission to Hospital (mm Hg)\", colour = \"Type of Heart Defect\") \n",
    "\n",
    "heart_plot\n",
    "# ggpairs(df)"
   ]
  },
  {
   "cell_type": "markdown",
   "metadata": {},
   "source": [
    "## Methods\n",
    "- Explain how to conduct the data analysis\n",
    "- Explain which variables you will use\n",
    "- Describe at least one way you will visualize the results"
   ]
  },
  {
   "cell_type": "markdown",
   "metadata": {},
   "source": [
    "## Expected Outcomes and Significance\n",
    "- What do you expect to find?\n",
    "- What impact could such findings have?\n",
    "- What future questions could this lead to?"
   ]
  },
  {
   "cell_type": "code",
   "execution_count": null,
   "metadata": {},
   "outputs": [],
   "source": []
  }
 ],
 "metadata": {
  "kernelspec": {
   "display_name": "R",
   "language": "R",
   "name": "ir"
  },
  "language_info": {
   "codemirror_mode": "r",
   "file_extension": ".r",
   "mimetype": "text/x-r-source",
   "name": "R",
   "pygments_lexer": "r",
   "version": "4.0.0"
  }
 },
 "nbformat": 4,
 "nbformat_minor": 4
}
